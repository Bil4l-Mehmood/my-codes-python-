{
  "nbformat": 4,
  "nbformat_minor": 0,
  "metadata": {
    "colab": {
      "provenance": [],
      "authorship_tag": "ABX9TyNwrEECcB1FizXsJXMFPFDx",
      "include_colab_link": true
    },
    "kernelspec": {
      "name": "python3",
      "display_name": "Python 3"
    },
    "language_info": {
      "name": "python"
    }
  },
  "cells": [
    {
      "cell_type": "markdown",
      "metadata": {
        "id": "view-in-github",
        "colab_type": "text"
      },
      "source": [
        "<a href=\"https://colab.research.google.com/github/Bil4l-Mehmood/my-codes-python-/blob/main/Untitled1.ipynb\" target=\"_parent\"><img src=\"https://colab.research.google.com/assets/colab-badge.svg\" alt=\"Open In Colab\"/></a>"
      ]
    },
    {
      "cell_type": "markdown",
      "source": [
        "# **Arthemetic Operators**"
      ],
      "metadata": {
        "id": "zvMD52gQExKU"
      }
    },
    {
      "cell_type": "markdown",
      "source": [
        "1. ADDITION"
      ],
      "metadata": {
        "id": "pTvoMoYOFMBo"
      }
    },
    {
      "cell_type": "code",
      "source": [
        "num1 : int = 5\n",
        "num2 : int = 5\n",
        "sum : int = num1 + num2\n",
        "print (sum)"
      ],
      "metadata": {
        "colab": {
          "base_uri": "https://localhost:8080/"
        },
        "id": "_p70z9evFDV0",
        "outputId": "5a457252-34db-4153-94da-16ebd921bac4"
      },
      "execution_count": null,
      "outputs": [
        {
          "output_type": "stream",
          "name": "stdout",
          "text": [
            "10\n"
          ]
        }
      ]
    },
    {
      "cell_type": "markdown",
      "source": [
        "2. SUBTRACTION"
      ],
      "metadata": {
        "id": "wNjU5r2bGIAP"
      }
    },
    {
      "cell_type": "code",
      "source": [
        "num1 : int = 10\n",
        "num2 : int = 5\n",
        "sub : int = num1 - num2\n",
        "print (sub)"
      ],
      "metadata": {
        "colab": {
          "base_uri": "https://localhost:8080/"
        },
        "id": "D4zJST_LGOr0",
        "outputId": "5a5fd732-ea51-4467-fb0a-fc30780475af"
      },
      "execution_count": null,
      "outputs": [
        {
          "output_type": "stream",
          "name": "stdout",
          "text": [
            "5\n"
          ]
        }
      ]
    },
    {
      "cell_type": "markdown",
      "source": [
        "3. MULTIPLICATION\n"
      ],
      "metadata": {
        "id": "bRjdzE2JGoNx"
      }
    },
    {
      "cell_type": "code",
      "source": [
        "num1 : int = 9\n",
        "num2 : int = 3\n",
        "mul : int = num1 * num2\n",
        "print (mul)"
      ],
      "metadata": {
        "colab": {
          "base_uri": "https://localhost:8080/"
        },
        "id": "Qwl_SmpNGuaE",
        "outputId": "59675ed3-4efa-4131-85f4-d3d9b2a82bea"
      },
      "execution_count": null,
      "outputs": [
        {
          "output_type": "stream",
          "name": "stdout",
          "text": [
            "27\n"
          ]
        }
      ]
    },
    {
      "cell_type": "markdown",
      "source": [
        "4. DIVISION"
      ],
      "metadata": {
        "id": "S9jxEeMfG7wH"
      }
    },
    {
      "cell_type": "code",
      "source": [
        "num1 : int = 16\n",
        "num2 : int = 2\n",
        "div : int = num1 / num2\n",
        "print (div)"
      ],
      "metadata": {
        "colab": {
          "base_uri": "https://localhost:8080/"
        },
        "id": "56N0zCSoHD3t",
        "outputId": "efab9ab9-a46a-4e54-a004-a73cc1ce5938"
      },
      "execution_count": null,
      "outputs": [
        {
          "output_type": "stream",
          "name": "stdout",
          "text": [
            "8.0\n"
          ]
        }
      ]
    },
    {
      "cell_type": "markdown",
      "source": [
        "5. EXPONENT\n"
      ],
      "metadata": {
        "id": "IyFJ6oESHMwI"
      }
    },
    {
      "cell_type": "code",
      "source": [
        "print (5 ** 2)\n",
        "print (8 ** 2)"
      ],
      "metadata": {
        "colab": {
          "base_uri": "https://localhost:8080/"
        },
        "id": "AdTx9CrlHVY7",
        "outputId": "6c2ab4ed-eae0-4774-c3d9-67272bf59023"
      },
      "execution_count": null,
      "outputs": [
        {
          "output_type": "stream",
          "name": "stdout",
          "text": [
            "25\n",
            "64\n"
          ]
        }
      ]
    },
    {
      "cell_type": "markdown",
      "source": [
        "6. FLOOR DIVISION\n"
      ],
      "metadata": {
        "id": "dsETchUUHjfK"
      }
    },
    {
      "cell_type": "code",
      "source": [
        "print (11 // 2)\n",
        "print(33 // 2)"
      ],
      "metadata": {
        "colab": {
          "base_uri": "https://localhost:8080/"
        },
        "id": "xjQP2gqpIAy_",
        "outputId": "d99a3bad-deee-4680-d47d-e21a5e2d8cde"
      },
      "execution_count": null,
      "outputs": [
        {
          "output_type": "stream",
          "name": "stdout",
          "text": [
            "5\n",
            "16\n"
          ]
        }
      ]
    },
    {
      "cell_type": "markdown",
      "source": [
        "7. MODULUS / REMAINDER"
      ],
      "metadata": {
        "id": "N--VszIPIPDl"
      }
    },
    {
      "cell_type": "code",
      "source": [
        "print (11 % 2)\n",
        "print (64 % 2)"
      ],
      "metadata": {
        "colab": {
          "base_uri": "https://localhost:8080/"
        },
        "id": "ZuqNbNn8IVlb",
        "outputId": "e1126f38-5886-4d68-d726-ed3a70f33fd8"
      },
      "execution_count": null,
      "outputs": [
        {
          "output_type": "stream",
          "name": "stdout",
          "text": [
            "1\n",
            "0\n"
          ]
        }
      ]
    },
    {
      "cell_type": "markdown",
      "source": [
        "# **Assignment Operators**"
      ],
      "metadata": {
        "id": "2TmwBh36Ili-"
      }
    },
    {
      "cell_type": "markdown",
      "source": [
        "1. ADDITION"
      ],
      "metadata": {
        "id": "rwEfgeHTJC5D"
      }
    },
    {
      "cell_type": "code",
      "source": [
        "x : int = 10\n",
        "x = x + 5\n",
        "print (x)"
      ],
      "metadata": {
        "colab": {
          "base_uri": "https://localhost:8080/"
        },
        "id": "iYDpJTB0JGPZ",
        "outputId": "f0edaa99-49cd-4368-e79b-cbba2132b0bf"
      },
      "execution_count": null,
      "outputs": [
        {
          "output_type": "stream",
          "name": "stdout",
          "text": [
            "15\n"
          ]
        }
      ]
    },
    {
      "cell_type": "markdown",
      "source": [
        "2. SUBTRACTION"
      ],
      "metadata": {
        "id": "DbtAAE4uJpEM"
      }
    },
    {
      "cell_type": "code",
      "source": [
        "x : int = 50\n",
        "x = x - 49\n",
        "print (x)"
      ],
      "metadata": {
        "colab": {
          "base_uri": "https://localhost:8080/"
        },
        "id": "O9AbsY3HJupz",
        "outputId": "99964738-a408-453a-ff41-0eaaf5d79028"
      },
      "execution_count": null,
      "outputs": [
        {
          "output_type": "stream",
          "name": "stdout",
          "text": [
            "1\n"
          ]
        }
      ]
    },
    {
      "cell_type": "markdown",
      "source": [
        "3. MULTIPLICATION"
      ],
      "metadata": {
        "id": "s9ZmsZbsKLWo"
      }
    },
    {
      "cell_type": "code",
      "source": [
        "x : int = 5\n",
        "x = x * 5\n",
        "print (x)"
      ],
      "metadata": {
        "colab": {
          "base_uri": "https://localhost:8080/"
        },
        "id": "EiTN5S7lKOuh",
        "outputId": "cf77a3b5-f5b7-4236-f054-e2b06b9cbea3"
      },
      "execution_count": null,
      "outputs": [
        {
          "output_type": "stream",
          "name": "stdout",
          "text": [
            "25\n"
          ]
        }
      ]
    },
    {
      "cell_type": "markdown",
      "source": [
        "4. DIVISION"
      ],
      "metadata": {
        "id": "iNUfv-8vKdxH"
      }
    },
    {
      "cell_type": "code",
      "source": [
        "x : int = 15\n",
        "x = x / 3\n",
        "print (x)"
      ],
      "metadata": {
        "colab": {
          "base_uri": "https://localhost:8080/"
        },
        "id": "LF9RWBCfKgUy",
        "outputId": "7ed45167-e552-415a-b27b-bd52a9e8731a"
      },
      "execution_count": null,
      "outputs": [
        {
          "output_type": "stream",
          "name": "stdout",
          "text": [
            "5.0\n"
          ]
        }
      ]
    },
    {
      "cell_type": "markdown",
      "source": [
        "# **Comparsion Operators**"
      ],
      "metadata": {
        "id": "SLbhPmKFKzvd"
      }
    },
    {
      "cell_type": "markdown",
      "source": [
        "\" == \" means \" Equal \". So, \"x\" is equal to \"y\""
      ],
      "metadata": {
        "id": "H4GEfuJgMCf4"
      }
    },
    {
      "cell_type": "code",
      "source": [
        "x = 10\n",
        "y = 10\n",
        "print (x == y)"
      ],
      "metadata": {
        "colab": {
          "base_uri": "https://localhost:8080/"
        },
        "id": "fW0JlEGEK9hi",
        "outputId": "ee31cf93-dc23-4839-a72a-e6b7f26b0a95"
      },
      "execution_count": null,
      "outputs": [
        {
          "output_type": "stream",
          "name": "stdout",
          "text": [
            "True\n"
          ]
        }
      ]
    },
    {
      "cell_type": "markdown",
      "source": [
        "\" > \" means \"Greater Than\". So, \" x \" is greater than \" y \""
      ],
      "metadata": {
        "id": "Nws5Uk5JMgjJ"
      }
    },
    {
      "cell_type": "code",
      "source": [
        "x = 150\n",
        "y = 100\n",
        "print ( x > y)"
      ],
      "metadata": {
        "colab": {
          "base_uri": "https://localhost:8080/"
        },
        "id": "AVJgDT9lM5BR",
        "outputId": "3d1a18ad-adfa-46b4-923a-70387288be68"
      },
      "execution_count": null,
      "outputs": [
        {
          "output_type": "stream",
          "name": "stdout",
          "text": [
            "True\n"
          ]
        }
      ]
    },
    {
      "cell_type": "markdown",
      "source": [
        "\" < \" means \"Less Than\". So, \" x \" is less than \" y \"\n",
        "\n"
      ],
      "metadata": {
        "id": "IYJwnk0BOL_P"
      }
    },
    {
      "cell_type": "code",
      "source": [
        "x = 300\n",
        "y = 250\n",
        "print ( x < y)"
      ],
      "metadata": {
        "colab": {
          "base_uri": "https://localhost:8080/"
        },
        "id": "AA5_U_YnOWU3",
        "outputId": "9f4c29a4-7746-4908-9f8b-d0b902b92803"
      },
      "execution_count": null,
      "outputs": [
        {
          "output_type": "stream",
          "name": "stdout",
          "text": [
            "False\n"
          ]
        }
      ]
    },
    {
      "cell_type": "markdown",
      "source": [
        "\" >= \" means \"Greater Than Equal To\". So, \" x \" is greater than or equal to \" y \""
      ],
      "metadata": {
        "id": "RgRSITxYPYXT"
      }
    },
    {
      "cell_type": "code",
      "source": [
        "x = 120\n",
        "y = 80\n",
        "print ( x >= y)"
      ],
      "metadata": {
        "colab": {
          "base_uri": "https://localhost:8080/"
        },
        "id": "5H9y8pvSO56R",
        "outputId": "46881ac8-c074-4295-d880-c5769a8a80b9"
      },
      "execution_count": null,
      "outputs": [
        {
          "output_type": "stream",
          "name": "stdout",
          "text": [
            "True\n"
          ]
        }
      ]
    },
    {
      "cell_type": "markdown",
      "source": [
        "\" <= \" means \"Less Than Equal To\". So, \" x \" is less than or equal to \" y \""
      ],
      "metadata": {
        "id": "oAgTlk9bPo2Z"
      }
    },
    {
      "cell_type": "code",
      "source": [
        "x = 99\n",
        "y = 100\n",
        "print ( x <= y)"
      ],
      "metadata": {
        "colab": {
          "base_uri": "https://localhost:8080/"
        },
        "id": "ZrHTkQEiQj4V",
        "outputId": "3e497889-0c20-4f91-e38c-74f3a1add1dd"
      },
      "execution_count": null,
      "outputs": [
        {
          "output_type": "stream",
          "name": "stdout",
          "text": [
            "True\n"
          ]
        }
      ]
    },
    {
      "cell_type": "markdown",
      "source": [
        "\" != \" means \"Not Equal To\". So, \" x \" is not equal to \" y \""
      ],
      "metadata": {
        "id": "KZdMQOQgQ1eb"
      }
    },
    {
      "cell_type": "code",
      "source": [
        "x = 50\n",
        "y = 50\n",
        "print ( x != y)"
      ],
      "metadata": {
        "colab": {
          "base_uri": "https://localhost:8080/"
        },
        "id": "DxA_bntkRSIG",
        "outputId": "d1ee27d5-64c1-4361-f4ba-40f35d098f16"
      },
      "execution_count": null,
      "outputs": [
        {
          "output_type": "stream",
          "name": "stdout",
          "text": [
            "False\n"
          ]
        }
      ]
    },
    {
      "cell_type": "markdown",
      "source": [
        "## **Logical Operators**"
      ],
      "metadata": {
        "id": "-j9_lji0Rivk"
      }
    },
    {
      "cell_type": "markdown",
      "source": [
        "## There are 3 types of logical operators which are as follow ;\n",
        "\n",
        "1.   AND\n",
        "2.   OR\n",
        "3.   NOT\n",
        "\n"
      ],
      "metadata": {
        "id": "CrQ3H7UXSNCj"
      }
    },
    {
      "cell_type": "markdown",
      "source": [
        "**1. AND Operator**"
      ],
      "metadata": {
        "id": "jdJlTcM3Ss1k"
      }
    },
    {
      "cell_type": "code",
      "source": [
        "num1 : int = 20\n",
        "num2 : int = 11\n",
        "# condition\n",
        "# num1 is greater than 10\n",
        "# AND\n",
        "# num2 is less than 30\n",
        "# True    and    False\n",
        "print (num1 > 10)\n",
        "print(num1 > 20)\n",
        "print(num1 < 30)\n",
        "print(num1 < 10 and num1 > 20 and num1 < 30)"
      ],
      "metadata": {
        "id": "1rIKVYCkS1sV",
        "colab": {
          "base_uri": "https://localhost:8080/"
        },
        "outputId": "8cc98f3d-b373-4754-dd32-954835f4f34c"
      },
      "execution_count": 29,
      "outputs": [
        {
          "output_type": "stream",
          "name": "stdout",
          "text": [
            "True\n",
            "False\n",
            "True\n",
            "False\n"
          ]
        }
      ]
    },
    {
      "cell_type": "markdown",
      "source": [
        "**2. OR Operator**"
      ],
      "metadata": {
        "id": "7pb2vA3mbqva"
      }
    },
    {
      "cell_type": "code",
      "source": [
        "num1: int = 40\n",
        "print( num1 > 10 and num1 < 30) # dono conditions true honi chahiye\n",
        "#    True    YA     False\n",
        "print( num1 > 10 or num1 < 40)"
      ],
      "metadata": {
        "colab": {
          "base_uri": "https://localhost:8080/"
        },
        "id": "gG_pVR6wbyQo",
        "outputId": "bc8aa072-c7b1-4503-886f-70fb01852354"
      },
      "execution_count": 30,
      "outputs": [
        {
          "output_type": "stream",
          "name": "stdout",
          "text": [
            "False\n",
            "True\n"
          ]
        }
      ]
    },
    {
      "cell_type": "markdown",
      "source": [
        "# **If / Else Statement**"
      ],
      "metadata": {
        "id": "8WJCCsPscFcH"
      }
    },
    {
      "cell_type": "markdown",
      "source": [
        "1. **IF STATEMENT**"
      ],
      "metadata": {
        "id": "uweSlqSPcZuL"
      }
    },
    {
      "cell_type": "code",
      "source": [
        "#        if   /  else\n",
        "#       AGHR     WRNA\n",
        "\n",
        "num1 = 2\n",
        "num2 = 1\n",
        "if num1 > num2:\n",
        "    print(\"Hello\")\n",
        "    uname= \"Sir Ameen\"\n",
        "    print(uname)"
      ],
      "metadata": {
        "colab": {
          "base_uri": "https://localhost:8080/"
        },
        "id": "7RgDXZ3Ocgjm",
        "outputId": "4f554636-4da3-494b-b6ca-f9f614e8c847"
      },
      "execution_count": 31,
      "outputs": [
        {
          "output_type": "stream",
          "name": "stdout",
          "text": [
            "Hello\n",
            "Sir Ameen\n"
          ]
        }
      ]
    }
  ]
}
